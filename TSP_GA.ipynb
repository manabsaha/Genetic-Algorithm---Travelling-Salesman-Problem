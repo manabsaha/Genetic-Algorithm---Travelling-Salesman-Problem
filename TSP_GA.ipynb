{
  "nbformat": 4,
  "nbformat_minor": 5,
  "metadata": {
    "kernelspec": {
      "display_name": "Python 3 (ipykernel)",
      "language": "python",
      "name": "python3"
    },
    "colab": {
      "name": "TSP_GA.ipynb",
      "provenance": [],
      "collapsed_sections": []
    }
  },
  "cells": [
    {
      "cell_type": "code",
      "metadata": {
        "id": "0621cbba"
      },
      "source": [
        "import random\n",
        "import copy\n",
        "import math\n",
        "import matplotlib.pyplot as plt"
      ],
      "id": "0621cbba",
      "execution_count": 1,
      "outputs": []
    },
    {
      "cell_type": "code",
      "metadata": {
        "id": "120dc1d7"
      },
      "source": [
        "POPULATION_SIZE = 20\n",
        "CITIES_SIZE = 20\n",
        "TOUR_SIZE = 21\n",
        "NUM_EXECUTION = 9999\n",
        "population = []\n",
        "x = []\n",
        "y = []\n",
        "tour = [[0 for x in range(TOUR_SIZE)] for y in range(TOUR_SIZE)]\n",
        "dCidade = [[0 for x in range(POPULATION_SIZE)] for y in range(POPULATION_SIZE)]\n",
        "distances = [0 for x in range(POPULATION_SIZE)]\n",
        "parentsOne = None\n",
        "parentsTwo = None\n",
        "costByExecution = []"
      ],
      "id": "120dc1d7",
      "execution_count": 2,
      "outputs": []
    },
    {
      "cell_type": "code",
      "metadata": {
        "id": "4a144f8e"
      },
      "source": [
        "\"\"\"\n",
        "    Generates the first population\n",
        "\"\"\"\n",
        "def generateFirstPopulation():\n",
        "    # For each position, generates a new possible path\n",
        "    for _ in range(1, POPULATION_SIZE + 1):\n",
        "        generatePossiblePath()\n",
        "\n",
        "\"\"\"\n",
        "    Method called in the generateFirstPopulation() to \n",
        "    generate a new possible path for the population\n",
        "\"\"\"\n",
        "def generatePossiblePath():\n",
        "    path = []\n",
        "    for _ in range(1, CITIES_SIZE + 1):\n",
        "        # generates a new number between 1 - POPULATION_SIZE\n",
        "        randomNum = random.randint(1, CITIES_SIZE)\n",
        "        # while the generated number exists in the list, generates a new one\n",
        "        while(numberExistsInPath(path, randomNum)):\n",
        "            randomNum = random.randint(1, CITIES_SIZE)\n",
        "        path.append(randomNum)\n",
        "    population.append(path)\n",
        "\n",
        "\"\"\"\n",
        "    Method to verify if the number is already in the path\n",
        "\"\"\"\n",
        "def numberExistsInPath(path, number):\n",
        "    for i in path:\n",
        "        if i == number:\n",
        "            return True\n",
        "    return False\n",
        "\n",
        "\"\"\"\n",
        "    Generates the X and Y arrays which represents the distances\n",
        "    in the x and y axis used to calculate the identity matrix in the fitness function\n",
        "\"\"\"\n",
        "def generateXandY():\n",
        "    for _ in range(CITIES_SIZE):\n",
        "        randomNumber = random.random()\n",
        "        randomNumber = round(randomNumber, 2)*100\n",
        "        x.append(randomNumber)\n",
        "\n",
        "        randomNumber = random.random()\n",
        "        randomNumber = round(randomNumber, 2)*100\n",
        "        y.append(randomNumber)\n",
        "\n",
        "\"\"\"\n",
        "    Generates the Tour matrix, which is the same matrix as the population,\n",
        "    but with the first column duplicated at the end of it, afterall, the traveller\n",
        "    always have to arrive at the same place of where he started\n",
        "\"\"\"\n",
        "def generateTour():\n",
        "    global tour\n",
        "    tour = copy.deepcopy(population)\n",
        "    for ways in tour:\n",
        "        first = ways[0]\n",
        "        ways.append(first)\n",
        "\n",
        "\"\"\"\n",
        "    Generates an array with the sum of each path in the population array\n",
        "    based on the tour matrix\n",
        "\"\"\"\n",
        "def calculateDistances():\n",
        "    global distances\n",
        "    distances = [0 for x in range(POPULATION_SIZE)]\n",
        "    for i in range(len(population)):\n",
        "        for j in range(len(population[i])):\n",
        "            firstPos = POPULATION_SIZE-1 if tour[i][j] == POPULATION_SIZE else tour[i][j]\n",
        "            secondPos = POPULATION_SIZE-1 if tour[i][j+1] == POPULATION_SIZE else tour[i][j+1]\n",
        "            distances[i] += round(dCidade[firstPos][secondPos], 4)\n",
        "    dict_dist = {i: distances[i] for i in range(0, len(distances))}\n",
        "    distances = copy.deepcopy(dict_dist)\n",
        "    return sorted(distances.items(), key=lambda kv: kv[1])\n",
        "\n",
        "\"\"\"\n",
        "    Generate the identity matrix (dCidade) based on the x and y arrays\n",
        "    and then call the calculateDistances() method to generate the array with the sum\n",
        "    of each path to user later in the cycle process\n",
        "\"\"\"\n",
        "def fitnessFunction():\n",
        "    for i in range(len(population)):\n",
        "        for j in range(len(population)):\n",
        "            dCidade[i][j] = round(math.sqrt(((x[i] - x[j])**2) + ((y[i] - y[j])**2)), 4)\n",
        "    return calculateDistances()\n",
        "\n",
        "\"\"\"\n",
        "    makes the swap between 2 cities in the path with a 5% chance of mutation\n",
        "\"\"\"\n",
        "def mutate(matrix):\n",
        "    for i in range(0, len(matrix)):\n",
        "        for _ in range(0, len(matrix[i])):\n",
        "            ranNum = random.randint(1, 100)\n",
        "            if ranNum >= 1 and ranNum <= 5:\n",
        "                indexOne = random.randint(0, POPULATION_SIZE-1)\n",
        "                indexTwo = random.randint(0, POPULATION_SIZE-1)\n",
        "                auxOne = matrix[i][indexOne]\n",
        "                auxTwo = matrix[i][indexTwo]\n",
        "                matrix[i][indexOne] = auxTwo\n",
        "                matrix[i][indexTwo] = auxOne\n",
        "\n",
        "\"\"\"\n",
        "    Performs the roulette function, generating two arrays with 5 parents each,\n",
        "    which will be used later to do the cycle process\n",
        "\"\"\"\n",
        "def rouletteFunction(sorted_x):\n",
        "    global parentsOne\n",
        "    global parentsTwo\n",
        "    arr = []\n",
        "    rouletteArr = []\n",
        "    for i in range(POPULATION_SIZE//2):\n",
        "        arr.append(sorted_x[i][0])\n",
        "    for j in range(len(arr)):\n",
        "        for _ in range(POPULATION_SIZE//2 - j):\n",
        "            rouletteArr.append(arr[j])\n",
        "    parentsOne = createParents(rouletteArr)\n",
        "    parentsTwo = createParents(rouletteArr)\n",
        "\n",
        "\"\"\"\n",
        "    Auxiliary method used in the rouletteFunction() to generate the two parents array\n",
        "\"\"\"\n",
        "def createParents(rouletteArr):\n",
        "    parentArr = []\n",
        "    for _ in range(POPULATION_SIZE//4):\n",
        "        parentArr.append(rouletteArr[random.randint(0, 54)])\n",
        "    return parentArr\n",
        "\n",
        "\"\"\"\n",
        "    Method used in the cycle method to see if there's any duplicated city\n",
        "\"\"\"\n",
        "def hasDuplicity(auxArray, usedIndexes):\n",
        "    for i in range(len(auxArray)):\n",
        "        for j in range(i, len(auxArray)):\n",
        "            if i != j and auxArray[i] == auxArray[j]:\n",
        "                if i in usedIndexes:\n",
        "                    return j\n",
        "                else:\n",
        "                    return i\n",
        "    return -1\n",
        "\n",
        "\"\"\"\n",
        "    Method that has the 'cycle' logic.\n",
        "    1. For each two children in the children array, makes a random swap between\n",
        "        the two children until there's no duplicated element\n",
        "    2. Mutate the children that were generated\n",
        "    3. Adds the children in the population array\n",
        "\"\"\"\n",
        "def doCycle(sorted_x):\n",
        "    global population\n",
        "    children = []\n",
        "\n",
        "    for i in range(POPULATION_SIZE//4):\n",
        "        parentOneAux = parentsOne[i]\n",
        "        parentTwoAux = parentsTwo[i]\n",
        "        usedIndexes = []\n",
        "\n",
        "        randomIndexInsideCromossomus = random.randint(0, POPULATION_SIZE - 1)\n",
        "\n",
        "        usedIndexes.append(randomIndexInsideCromossomus)\n",
        "\n",
        "        childOne = copy.deepcopy(population[parentOneAux])\n",
        "        childTwo = copy.deepcopy(population[parentTwoAux])\n",
        "\n",
        "        valAuxOne = childOne[randomIndexInsideCromossomus]\n",
        "        valAuxTwo = childTwo[randomIndexInsideCromossomus]\n",
        "\n",
        "        childOne[randomIndexInsideCromossomus] = valAuxTwo\n",
        "        childTwo[randomIndexInsideCromossomus] = valAuxOne\n",
        "\n",
        "        while(hasDuplicity(childOne, usedIndexes) != -1):\n",
        "            newIndex = hasDuplicity(childOne, usedIndexes)\n",
        "            usedIndexes.append(newIndex)\n",
        "\n",
        "            valAuxOne = childOne[newIndex]\n",
        "            valAuxTwo = childTwo[newIndex]\n",
        "\n",
        "            childOne[newIndex] = valAuxTwo\n",
        "            childTwo[newIndex] = valAuxOne\n",
        "\n",
        "        # After generating the children, add them in the children's array\n",
        "        children.append(childOne)\n",
        "        children.append(childTwo)\n",
        "\n",
        "    # Mutate the children array\n",
        "    mutate(children)\n",
        "\n",
        "    # Make a temp copy of the population before changing it\n",
        "    tempPop = copy.deepcopy(population)\n",
        "\n",
        "    for i in range(POPULATION_SIZE//2):\n",
        "        population[i] = copy.deepcopy(tempPop[sorted_x[i][0]])\n",
        "\n",
        "    # Adjust the population\n",
        "    for j in range(POPULATION_SIZE//2, POPULATION_SIZE):\n",
        "        population[j] = copy.deepcopy(children[j - POPULATION_SIZE//2])"
      ],
      "id": "4a144f8e",
      "execution_count": 4,
      "outputs": []
    },
    {
      "cell_type": "markdown",
      "metadata": {
        "id": "kdpQpnXESSUw"
      },
      "source": [
        "**Main Code**"
      ],
      "id": "kdpQpnXESSUw"
    },
    {
      "cell_type": "code",
      "metadata": {
        "id": "62c2e69b",
        "colab": {
          "base_uri": "https://localhost:8080/"
        },
        "outputId": "06af29e2-0949-4d5e-a609-87988a793362"
      },
      "source": [
        "# Runs only once. Generates the population, x and y, and tour matrix\n",
        "generateFirstPopulation()\n",
        "generateXandY()\n",
        "generateTour()\n",
        "\n",
        "# Runs in a loop 0 - 9999.\n",
        "for _ in range(NUM_EXECUTION):\n",
        "    sorted_x = fitnessFunction()\n",
        "    rouletteFunction(sorted_x)\n",
        "    doCycle(sorted_x)\n",
        "    generateTour() # Generate the Tour matrix again, as the population is updated\n",
        "    costByExecution.append(sorted_x[0][1]) # Appends the cost to the array of costs (plotted at the end)\n",
        "\n",
        "# Generates the fitness values for the last population\n",
        "sorted_x = fitnessFunction()\n",
        "\n",
        "print('Total population: %s' % (POPULATION_SIZE))\n",
        "print('Number of cities: %s' % (CITIES_SIZE))\n",
        "print('Optimal path cost: %s' % sorted_x[0][1])\n",
        "print('Best route: %s' % population[0])"
      ],
      "id": "62c2e69b",
      "execution_count": 5,
      "outputs": [
        {
          "output_type": "stream",
          "name": "stdout",
          "text": [
            "Total population: 20\n",
            "Number of cities: 20\n",
            "Optimal path cost: 352.64910000000003\n",
            "Best route: [6, 15, 7, 11, 20, 19, 2, 3, 13, 10, 8, 4, 9, 18, 14, 1, 16, 17, 5, 12]\n"
          ]
        }
      ]
    },
    {
      "cell_type": "markdown",
      "metadata": {
        "id": "TnG9O-B8SZfF"
      },
      "source": [
        "**Plotting**"
      ],
      "id": "TnG9O-B8SZfF"
    },
    {
      "cell_type": "code",
      "metadata": {
        "colab": {
          "base_uri": "https://localhost:8080/",
          "height": 269
        },
        "id": "l1OdVz9RR0W9",
        "outputId": "6db8849e-f90d-4849-ba32-03365653beb9"
      },
      "source": [
        "# Show the path graph\n",
        "plt.plot(tour[0])\n",
        "plt.plot(tour[0], 'ro')\n",
        "plt.axis([0, 20, 0, 20])\n",
        "plt.show()"
      ],
      "id": "l1OdVz9RR0W9",
      "execution_count": 6,
      "outputs": [
        {
          "output_type": "display_data",
          "data": {
            "image/png": "[encoded data removed]",
            "text/plain": [
              "<Figure size 432x288 with 1 Axes>"
            ]
          },
          "metadata": {
            "needs_background": "light"
          }
        }
      ]
    },
    {
      "cell_type": "code",
      "metadata": {
        "colab": {
          "base_uri": "https://localhost:8080/",
          "height": 265
        },
        "id": "KyGjdLSER2FP",
        "outputId": "a64b422e-0c8d-4095-e512-3c931e9f5b6d"
      },
      "source": [
        "# Show the cost graph\n",
        "plt.plot(costByExecution)\n",
        "plt.show()"
      ],
      "id": "KyGjdLSER2FP",
      "execution_count": 7,
      "outputs": [
        {
          "output_type": "display_data",
          "data": {
            "image/png": "[encoded data removed]",
            "text/plain": [
              "<Figure size 432x288 with 1 Axes>"
            ]
          },
          "metadata": {
            "needs_background": "light"
          }
        }
      ]
    }
  ]
}